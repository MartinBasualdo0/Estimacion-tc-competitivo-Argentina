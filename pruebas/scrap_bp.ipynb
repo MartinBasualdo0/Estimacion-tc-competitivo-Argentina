{
 "cells": [
  {
   "cell_type": "code",
   "execution_count": 1,
   "metadata": {},
   "outputs": [],
   "source": [
    "import pandas as pd\n",
    "import numpy as np\n",
    "import math\n",
    "from datetime import date\n",
    "import time\n",
    "import os\n",
    "from os.path import exists\n",
    "import glob #para eliminar archivos dentro de carpeta\n",
    "from datetime import datetime\n",
    "import xlrd\n",
    "# Para scrap\n",
    "from selenium import webdriver\n",
    "from selenium.webdriver.support.ui import WebDriverWait\n",
    "from selenium.webdriver.support.ui import Select\n",
    "from selenium.webdriver.common.by import By\n",
    "from selenium.webdriver.support import expected_conditions as EC\n",
    "from selenium.common.exceptions import TimeoutException\n",
    "# Graficos\n",
    "import plotly.graph_objects as go"
   ]
  },
  {
   "cell_type": "code",
   "execution_count": 2,
   "metadata": {},
   "outputs": [],
   "source": [
    "for filename in glob.glob(\"../data/cin*\"):\n",
    "    os.remove(filename)"
   ]
  },
  {
   "cell_type": "code",
   "execution_count": 3,
   "metadata": {},
   "outputs": [
    {
     "name": "stderr",
     "output_type": "stream",
     "text": [
      "C:\\Users\\mbasualdo\\AppData\\Local\\Temp\\ipykernel_19708\\1906382420.py:24: DeprecationWarning: executable_path has been deprecated, please pass in a Service object\n",
      "  driver = webdriver.Chrome(path,options=chrome_options)\n"
     ]
    }
   ],
   "source": [
    "#Scrap\n",
    "link='https://www.indec.gob.ar/indec/web/Nivel4-Tema-3-35-45'\n",
    "# Descargar los datos de la web\n",
    "\n",
    "def every_downloads_chrome(driver):\n",
    "    '''Para ver cuando terminan las descargas'''\n",
    "    if not driver.current_url.startswith(\"chrome://downloads\"):\n",
    "        driver.get(\"chrome://downloads/\")\n",
    "    return driver.execute_script(\"\"\"\n",
    "        var items = document.querySelector('downloads-manager')\n",
    "            .shadowRoot.getElementById('downloadsList').items;\n",
    "        if (items.every(e => e.state === \"COMPLETE\"))\n",
    "            return items.map(e => e.fileUrl || e.file_url);\n",
    "        \"\"\")\n",
    "\n",
    "path='../selenium/chromedriver.exe'\n",
    "carpeta_descarga=os.getcwd().replace('src','data')\n",
    "#Con getcwd() se encuentra el path absoluto\n",
    "\n",
    "chrome_options = webdriver.ChromeOptions()\n",
    "prefs = {'download.default_directory' : carpeta_descarga,\n",
    "        \"directory_upgrade\": True}\n",
    "chrome_options.add_experimental_option('prefs', prefs)\n",
    "driver = webdriver.Chrome(path,options=chrome_options)\n",
    "\n",
    "driver.get(link)\n",
    "driver.maximize_window()\n",
    "\n",
    "delay = 3 # seconds\n",
    "try:\n",
    "    myElem = WebDriverWait(driver, delay).until(EC.presence_of_element_located((By.XPATH, '//*[@id=\"2\"]/div[2]/div[1]/div[2]/div/div/a')))\n",
    "except TimeoutException:\n",
    "    print(\"Loading took too much time!\")\n",
    "\n",
    "bp=driver.find_element(By.XPATH, '//*[@id=\"2\"]/div[2]/div[1]/div[2]/div/div/a')\n",
    "bp.click()\n",
    "\n",
    "paths = WebDriverWait(driver, 300, 1).until(every_downloads_chrome)\n",
    "\n",
    "driver.quit()"
   ]
  },
  {
   "cell_type": "code",
   "execution_count": 4,
   "metadata": {},
   "outputs": [
    {
     "data": {
      "text/html": [
       "<div>\n",
       "<style scoped>\n",
       "    .dataframe tbody tr th:only-of-type {\n",
       "        vertical-align: middle;\n",
       "    }\n",
       "\n",
       "    .dataframe tbody tr th {\n",
       "        vertical-align: top;\n",
       "    }\n",
       "\n",
       "    .dataframe thead th {\n",
       "        text-align: right;\n",
       "    }\n",
       "</style>\n",
       "<table border=\"1\" class=\"dataframe\">\n",
       "  <thead>\n",
       "    <tr style=\"text-align: right;\">\n",
       "      <th></th>\n",
       "      <th>anio</th>\n",
       "      <th>Bienes_y_servicios</th>\n",
       "    </tr>\n",
       "  </thead>\n",
       "  <tbody>\n",
       "    <tr>\n",
       "      <th>0</th>\n",
       "      <td>2006</td>\n",
       "      <td>13266.642573</td>\n",
       "    </tr>\n",
       "    <tr>\n",
       "      <th>1</th>\n",
       "      <td>2007</td>\n",
       "      <td>12570.579976</td>\n",
       "    </tr>\n",
       "    <tr>\n",
       "      <th>2</th>\n",
       "      <td>2008</td>\n",
       "      <td>13340.936973</td>\n",
       "    </tr>\n",
       "    <tr>\n",
       "      <th>3</th>\n",
       "      <td>2009</td>\n",
       "      <td>16652.818510</td>\n",
       "    </tr>\n",
       "    <tr>\n",
       "      <th>4</th>\n",
       "      <td>2010</td>\n",
       "      <td>12343.520649</td>\n",
       "    </tr>\n",
       "    <tr>\n",
       "      <th>5</th>\n",
       "      <td>2011</td>\n",
       "      <td>9198.443050</td>\n",
       "    </tr>\n",
       "    <tr>\n",
       "      <th>6</th>\n",
       "      <td>2012</td>\n",
       "      <td>10943.688063</td>\n",
       "    </tr>\n",
       "    <tr>\n",
       "      <th>7</th>\n",
       "      <td>2013</td>\n",
       "      <td>-693.680874</td>\n",
       "    </tr>\n",
       "    <tr>\n",
       "      <th>8</th>\n",
       "      <td>2014</td>\n",
       "      <td>900.177659</td>\n",
       "    </tr>\n",
       "    <tr>\n",
       "      <th>9</th>\n",
       "      <td>2015</td>\n",
       "      <td>-6600.221086</td>\n",
       "    </tr>\n",
       "    <tr>\n",
       "      <th>10</th>\n",
       "      <td>2016</td>\n",
       "      <td>-4035.498244</td>\n",
       "    </tr>\n",
       "    <tr>\n",
       "      <th>11</th>\n",
       "      <td>2017</td>\n",
       "      <td>-15142.501700</td>\n",
       "    </tr>\n",
       "    <tr>\n",
       "      <th>12</th>\n",
       "      <td>2018</td>\n",
       "      <td>-9678.495464</td>\n",
       "    </tr>\n",
       "    <tr>\n",
       "      <th>13</th>\n",
       "      <td>2019</td>\n",
       "      <td>13390.550041</td>\n",
       "    </tr>\n",
       "    <tr>\n",
       "      <th>14</th>\n",
       "      <td>2020</td>\n",
       "      <td>12092.401048</td>\n",
       "    </tr>\n",
       "    <tr>\n",
       "      <th>15</th>\n",
       "      <td>2021</td>\n",
       "      <td>15052.826489</td>\n",
       "    </tr>\n",
       "    <tr>\n",
       "      <th>16</th>\n",
       "      <td>2022</td>\n",
       "      <td>2086.107549</td>\n",
       "    </tr>\n",
       "  </tbody>\n",
       "</table>\n",
       "</div>"
      ],
      "text/plain": [
       "    anio  Bienes_y_servicios\n",
       "0   2006        13266.642573\n",
       "1   2007        12570.579976\n",
       "2   2008        13340.936973\n",
       "3   2009        16652.818510\n",
       "4   2010        12343.520649\n",
       "5   2011         9198.443050\n",
       "6   2012        10943.688063\n",
       "7   2013         -693.680874\n",
       "8   2014          900.177659\n",
       "9   2015        -6600.221086\n",
       "10  2016        -4035.498244\n",
       "11  2017       -15142.501700\n",
       "12  2018        -9678.495464\n",
       "13  2019        13390.550041\n",
       "14  2020        12092.401048\n",
       "15  2021        15052.826489\n",
       "16  2022         2086.107549"
      ]
     },
     "execution_count": 4,
     "metadata": {},
     "output_type": "execute_result"
    }
   ],
   "source": [
    "df=pd.read_excel('../data/cin_II_2022.xls',sheet_name=1, header=4)\n",
    "df = df[df.columns.drop(list(df.filter(regex='Unnamed')))]\n",
    "df = df[df.columns.drop(list(df.filter(regex='Total')))].T.reset_index()[['index',2]]\n",
    "\n",
    "df.columns = ['trimestre','Bienes_y_servicios'] #set the header row as the df header\n",
    "df.trimestre=([1,2,3,4]*len(df.trimestre))[:len(df.trimestre)]\n",
    "fechas=range(2006,2006+math.ceil(len(df.trimestre)/4))\n",
    "df['anio']=(np.repeat(fechas,4))[:len(df.trimestre)]\n",
    "df['timestre_anio']=df.trimestre.astype(str)+'-'+df.anio.astype(str)\n",
    "df=df[['timestre_anio','anio','trimestre','Bienes_y_servicios']]\n",
    "df\n",
    "\n",
    "df_anual=df.groupby('anio',as_index=False).sum().drop('trimestre',axis=1)\n",
    "df_anual"
   ]
  },
  {
   "cell_type": "code",
   "execution_count": 15,
   "metadata": {},
   "outputs": [
    {
     "data": {
      "application/vnd.plotly.v1+json": {
       "config": {
        "plotlyServerURL": "https://plot.ly"
       },
       "data": [
        {
         "mode": "lines",
         "name": "Saldo bienes y servicios BP",
         "type": "scatter",
         "x": [
          2006,
          2007,
          2008,
          2009,
          2010,
          2011,
          2012,
          2013,
          2014,
          2015,
          2016,
          2017,
          2018,
          2019,
          2020,
          2021,
          2022
         ],
         "y": [
          13266.642573159292,
          12570.579976288724,
          13340.936973296752,
          16652.81851039573,
          12343.520648578302,
          9198.443049713533,
          10943.688062568155,
          -693.6808744288319,
          900.1776594987532,
          -6600.221085864279,
          -4035.4982439358027,
          -15142.50169976446,
          -9678.495464234704,
          13390.550040882372,
          12092.401048197376,
          15052.82648850705,
          2086.107548846503
         ]
        }
       ],
       "layout": {
        "annotations": [
         {
          "font": {
           "size": 12
          },
          "showarrow": false,
          "text": "Fuente: INDEC",
          "x": 0.1,
          "xanchor": "right",
          "xref": "paper",
          "xshift": 0,
          "y": -0.1,
          "yanchor": "auto",
          "yref": "paper",
          "yshift": 0
         },
         {
          "font": {
           "family": "arial",
           "size": 16
          },
          "opacity": 0.4,
          "showarrow": false,
          "text": "@MartinBasualdo0",
          "x": 0.5,
          "xref": "paper",
          "y": 0.5,
          "yref": "paper"
         }
        ],
        "font": {
         "family": "Georgia"
        },
        "height": 600,
        "legend": {
         "orientation": "h",
         "x": 0.36,
         "xanchor": "left",
         "y": 1.05,
         "yanchor": "top"
        },
        "separators": ",.",
        "template": {
         "data": {
          "scatter": [
           {
            "type": "scatter"
           }
          ]
         }
        },
        "title": {
         "text": "Saldo de bienes y servicios de la Balanza de Pagos<br><sup>Frecuencia anual. En millones de USD"
        },
        "width": 1000,
        "xaxis": {
         "showgrid": true
        },
        "yaxis": {
         "title": {
          "text": "Saldo"
         }
        }
       }
      }
     },
     "metadata": {},
     "output_type": "display_data"
    }
   ],
   "source": [
    "def plot_saldo_trimestral():\n",
    "    x = df[\"timestre_anio\"]\n",
    "\n",
    "    #Datos\n",
    "    cotizaciones_plot = go.Figure()\n",
    "    cotizaciones_plot.add_trace(go.Scatter(name = \"Saldo bienes y servicios BP\", x=x, y=df[\"Bienes_y_servicios\"], mode = \"lines\"))\n",
    "\n",
    "    #Propiedades\n",
    "    cotizaciones_plot.update_xaxes(showgrid=True)\n",
    "    cotizaciones_plot.update_yaxes(title_text=\"Saldo\",)\n",
    "    cotizaciones_plot.update_layout(separators=\",.\", font_family=\"Georgia\",\n",
    "    height=600, width=1000,\n",
    "    template = 'none',\n",
    "    title_text=f\"Saldo de bienes y servicios de la Balanza de Pagos<br><sup>Frecuencia trimestral. En millones de USD\",\n",
    "    legend = dict(yanchor=\"top\",y=1.05, xanchor=\"left\",x=0.36,orientation='h'))\n",
    "\n",
    "    note = 'Fuente: INDEC'\n",
    "    cotizaciones_plot.add_annotation(showarrow=False, text=note,font=dict(size=12), xref='paper',x=0.1,yref='paper', y=-0.17, \n",
    "                            xanchor='right', yanchor='auto', xshift=0, yshift=0,)\n",
    "\n",
    "    #Marca de agua\n",
    "    cotizaciones_plot.add_annotation(showarrow=False, text='@MartinBasualdo0', font=dict(size=16), font_family=\"arial\", opacity=0.4,\n",
    "        xref='paper', yref='paper', x=0.5, y=0.5)\n",
    "    return cotizaciones_plot\n",
    "\n",
    "def plot_saldo_anual():\n",
    "    x = df_anual[\"anio\"]\n",
    "\n",
    "    #Datos\n",
    "    cotizaciones_plot = go.Figure()\n",
    "    cotizaciones_plot.add_trace(go.Scatter(name = \"Saldo bienes y servicios BP\", x=x, y=df_anual[\"Bienes_y_servicios\"], mode = \"lines\"))\n",
    "\n",
    "    #Propiedades\n",
    "    cotizaciones_plot.update_xaxes(showgrid=True)\n",
    "    cotizaciones_plot.update_yaxes(title_text=\"Saldo\",)\n",
    "    cotizaciones_plot.update_layout(separators=\",.\", font_family=\"Georgia\",\n",
    "    height=600, width=1000,\n",
    "    template = 'none',\n",
    "    title_text=f\"Saldo de bienes y servicios de la Balanza de Pagos<br><sup>Frecuencia anual. En millones de USD\",\n",
    "    legend = dict(yanchor=\"top\",y=1.05, xanchor=\"left\",x=0.36,orientation='h'))\n",
    "\n",
    "    note = 'Fuente: INDEC'\n",
    "    cotizaciones_plot.add_annotation(showarrow=False, text=note,font=dict(size=12), xref='paper',x=0.1,yref='paper', y=-0.1, \n",
    "                            xanchor='right', yanchor='auto', xshift=0, yshift=0,)\n",
    "\n",
    "    #Marca de agua\n",
    "    cotizaciones_plot.add_annotation(showarrow=False, text='@MartinBasualdo0', font=dict(size=16), font_family=\"arial\", opacity=0.4,\n",
    "        xref='paper', yref='paper', x=0.5, y=0.5)\n",
    "    return cotizaciones_plot\n",
    "\n",
    "plot_saldo_anual()"
   ]
  }
 ],
 "metadata": {
  "kernelspec": {
   "display_name": "Python 3.10.4 ('indec')",
   "language": "python",
   "name": "python3"
  },
  "language_info": {
   "name": "python",
   "version": "3.10.4"
  },
  "orig_nbformat": 4,
  "vscode": {
   "interpreter": {
    "hash": "8e76e384a9df139c1746ba138f5ce3f6d0babc035eebae6bb58adb8dce6b6867"
   }
  }
 },
 "nbformat": 4,
 "nbformat_minor": 2
}
