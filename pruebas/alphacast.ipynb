{
 "cells": [
  {
   "cell_type": "code",
   "execution_count": 36,
   "metadata": {},
   "outputs": [],
   "source": [
    "import requests\n",
    "from alphacast import Alphacast\n",
    "import pandas as pd\n",
    "import time"
   ]
  },
  {
   "cell_type": "code",
   "execution_count": 37,
   "metadata": {},
   "outputs": [],
   "source": [
    "alphacast = Alphacast(\"ak_mRHVZyiLfsAJDrCkZazO\")"
   ]
  },
  {
   "cell_type": "code",
   "execution_count": 38,
   "metadata": {},
   "outputs": [],
   "source": [
    "df = pd.read_excel('../output/ITCRM historico.xlsx',sheet_name=\"tc_equilibrio\")\n",
    "tc_read_df = pd.read_excel('../output/Tc a precios de hoy.xlsx')[['Período','dolar','inflacion','tc_real_hoy']]"
   ]
  },
  {
   "cell_type": "code",
   "execution_count": 42,
   "metadata": {},
   "outputs": [
    {
     "data": {
      "text/plain": [
       "b'{\"id\": 1002865, \"status\": \"Requested\", \"createdAt\": \"2022-11-09T18:33:57.957687\", \"datasetId\": 37270}'"
      ]
     },
     "execution_count": 42,
     "metadata": {},
     "output_type": "execute_result"
    }
   ],
   "source": [
    "# alphacast.datasets.dataset(37268).download_data(\"pandas\")\n",
    "alphacast.datasets.dataset(37268).upload_data_from_df(df, deleteMissingFromDB = False, onConflictUpdateDB = False, uploadIndex=False)\n",
    "time.sleep(10)\n",
    "alphacast.datasets.dataset(37270).upload_data_from_df(tc_read_df, deleteMissingFromDB = False, onConflictUpdateDB = False, uploadIndex=False)"
   ]
  },
  {
   "cell_type": "code",
   "execution_count": 40,
   "metadata": {},
   "outputs": [
    {
     "data": {
      "text/plain": [
       "b'[{\"id\": 1002863, \"datasetId\": 37270, \"status\": \"Processed\", \"statusDescription\": \"249 values where missing in data, but left in database./n9119 values added to database./n\", \"deleteMissingFromDB\": 0, \"onConflictUpdateDB\": 0, \"createdAt\": \"2022-11-09T18:32:09\", \"processedAt\": \"2022-11-09T18:32:11\"}, {\"id\": 808792, \"datasetId\": 37270, \"status\": \"Processed\", \"statusDescription\": \"249 values added to database./n\", \"deleteMissingFromDB\": null, \"onConflictUpdateDB\": null, \"createdAt\": \"2022-10-18T19:00:06\", \"processedAt\": \"2022-10-18T19:01:19\"}]'"
      ]
     },
     "execution_count": 40,
     "metadata": {},
     "output_type": "execute_result"
    }
   ],
   "source": [
    "time.sleep(3)\n",
    "alphacast.datasets.dataset(37268).processes()\n",
    "time.sleep(10)\n",
    "alphacast.datasets.dataset(37270).processes()"
   ]
  },
  {
   "cell_type": "code",
   "execution_count": 41,
   "metadata": {},
   "outputs": [
    {
     "data": {
      "text/html": [
       "<div>\n",
       "<style scoped>\n",
       "    .dataframe tbody tr th:only-of-type {\n",
       "        vertical-align: middle;\n",
       "    }\n",
       "\n",
       "    .dataframe tbody tr th {\n",
       "        vertical-align: top;\n",
       "    }\n",
       "\n",
       "    .dataframe thead th {\n",
       "        text-align: right;\n",
       "    }\n",
       "</style>\n",
       "<table border=\"1\" class=\"dataframe\">\n",
       "  <thead>\n",
       "    <tr style=\"text-align: right;\">\n",
       "      <th></th>\n",
       "      <th>Período</th>\n",
       "      <th>tc_equilibrio</th>\n",
       "      <th>tc_oficial_mayorista</th>\n",
       "      <th>brecha</th>\n",
       "    </tr>\n",
       "  </thead>\n",
       "  <tbody>\n",
       "    <tr>\n",
       "      <th>0</th>\n",
       "      <td>1997-11-21</td>\n",
       "      <td>1.928727</td>\n",
       "      <td>1.00</td>\n",
       "      <td>0.928716</td>\n",
       "    </tr>\n",
       "    <tr>\n",
       "      <th>1</th>\n",
       "      <td>1997-11-22</td>\n",
       "      <td>1.928575</td>\n",
       "      <td>1.00</td>\n",
       "      <td>0.928586</td>\n",
       "    </tr>\n",
       "    <tr>\n",
       "      <th>2</th>\n",
       "      <td>1997-11-23</td>\n",
       "      <td>1.928350</td>\n",
       "      <td>1.00</td>\n",
       "      <td>0.928350</td>\n",
       "    </tr>\n",
       "    <tr>\n",
       "      <th>3</th>\n",
       "      <td>1997-11-24</td>\n",
       "      <td>1.924499</td>\n",
       "      <td>1.00</td>\n",
       "      <td>0.924499</td>\n",
       "    </tr>\n",
       "    <tr>\n",
       "      <th>4</th>\n",
       "      <td>1997-11-25</td>\n",
       "      <td>1.927237</td>\n",
       "      <td>1.00</td>\n",
       "      <td>0.927237</td>\n",
       "    </tr>\n",
       "    <tr>\n",
       "      <th>...</th>\n",
       "      <td>...</td>\n",
       "      <td>...</td>\n",
       "      <td>...</td>\n",
       "      <td>...</td>\n",
       "    </tr>\n",
       "    <tr>\n",
       "      <th>9114</th>\n",
       "      <td>2022-11-04</td>\n",
       "      <td>272.463111</td>\n",
       "      <td>153.18</td>\n",
       "      <td>0.778712</td>\n",
       "    </tr>\n",
       "    <tr>\n",
       "      <th>9115</th>\n",
       "      <td>2022-11-05</td>\n",
       "      <td>272.950021</td>\n",
       "      <td>153.18</td>\n",
       "      <td>0.781891</td>\n",
       "    </tr>\n",
       "    <tr>\n",
       "      <th>9116</th>\n",
       "      <td>2022-11-06</td>\n",
       "      <td>273.437801</td>\n",
       "      <td>153.18</td>\n",
       "      <td>0.785075</td>\n",
       "    </tr>\n",
       "    <tr>\n",
       "      <th>9117</th>\n",
       "      <td>2022-11-07</td>\n",
       "      <td>272.666319</td>\n",
       "      <td>153.18</td>\n",
       "      <td>0.780039</td>\n",
       "    </tr>\n",
       "    <tr>\n",
       "      <th>9118</th>\n",
       "      <td>2022-11-08</td>\n",
       "      <td>272.526384</td>\n",
       "      <td>153.18</td>\n",
       "      <td>0.779125</td>\n",
       "    </tr>\n",
       "  </tbody>\n",
       "</table>\n",
       "<p>9119 rows × 4 columns</p>\n",
       "</div>"
      ],
      "text/plain": [
       "         Período  tc_equilibrio  tc_oficial_mayorista    brecha\n",
       "0     1997-11-21       1.928727                  1.00  0.928716\n",
       "1     1997-11-22       1.928575                  1.00  0.928586\n",
       "2     1997-11-23       1.928350                  1.00  0.928350\n",
       "3     1997-11-24       1.924499                  1.00  0.924499\n",
       "4     1997-11-25       1.927237                  1.00  0.927237\n",
       "...          ...            ...                   ...       ...\n",
       "9114  2022-11-04     272.463111                153.18  0.778712\n",
       "9115  2022-11-05     272.950021                153.18  0.781891\n",
       "9116  2022-11-06     273.437801                153.18  0.785075\n",
       "9117  2022-11-07     272.666319                153.18  0.780039\n",
       "9118  2022-11-08     272.526384                153.18  0.779125\n",
       "\n",
       "[9119 rows x 4 columns]"
      ]
     },
     "execution_count": 41,
     "metadata": {},
     "output_type": "execute_result"
    }
   ],
   "source": [
    "time.sleep(10)\n",
    "alphacast.datasets.dataset(37268).download_data(\"pandas\")"
   ]
  }
 ],
 "metadata": {
  "kernelspec": {
   "display_name": "Python 3.10.4 ('indec')",
   "language": "python",
   "name": "python3"
  },
  "language_info": {
   "codemirror_mode": {
    "name": "ipython",
    "version": 3
   },
   "file_extension": ".py",
   "mimetype": "text/x-python",
   "name": "python",
   "nbconvert_exporter": "python",
   "pygments_lexer": "ipython3",
   "version": "3.10.4"
  },
  "orig_nbformat": 4,
  "vscode": {
   "interpreter": {
    "hash": "8e76e384a9df139c1746ba138f5ce3f6d0babc035eebae6bb58adb8dce6b6867"
   }
  }
 },
 "nbformat": 4,
 "nbformat_minor": 2
}
